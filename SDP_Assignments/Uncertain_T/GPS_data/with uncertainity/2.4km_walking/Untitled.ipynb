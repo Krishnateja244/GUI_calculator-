{
 "cells": [
  {
   "cell_type": "code",
   "execution_count": 1,
   "id": "departmental-zoning",
   "metadata": {},
   "outputs": [],
   "source": [
    "import numpy as np\n",
    "import matplotlib.pyplot as plt\n",
    "from scipy import stats\n",
    "import scipy as sp\n",
    "import pandas as pd\n",
    "import os"
   ]
  },
  {
   "cell_type": "code",
   "execution_count": 2,
   "id": "different-humor",
   "metadata": {},
   "outputs": [],
   "source": [
    "data_dist = pd.read_csv(\"20201220.csv\")"
   ]
  },
  {
   "cell_type": "code",
   "execution_count": 3,
   "id": "useful-simon",
   "metadata": {},
   "outputs": [
    {
     "data": {
      "text/html": [
       "<div>\n",
       "<style scoped>\n",
       "    .dataframe tbody tr th:only-of-type {\n",
       "        vertical-align: middle;\n",
       "    }\n",
       "\n",
       "    .dataframe tbody tr th {\n",
       "        vertical-align: top;\n",
       "    }\n",
       "\n",
       "    .dataframe thead th {\n",
       "        text-align: right;\n",
       "    }\n",
       "</style>\n",
       "<table border=\"1\" class=\"dataframe\">\n",
       "  <thead>\n",
       "    <tr style=\"text-align: right;\">\n",
       "      <th></th>\n",
       "      <th>time</th>\n",
       "      <th>lat</th>\n",
       "      <th>lon</th>\n",
       "      <th>elevation</th>\n",
       "      <th>accuracy</th>\n",
       "      <th>bearing</th>\n",
       "      <th>speed</th>\n",
       "      <th>satellites</th>\n",
       "      <th>provider</th>\n",
       "      <th>hdop</th>\n",
       "      <th>vdop</th>\n",
       "      <th>pdop</th>\n",
       "      <th>geoidheight</th>\n",
       "      <th>ageofdgpsdata</th>\n",
       "      <th>dgpsid</th>\n",
       "      <th>activity</th>\n",
       "      <th>battery</th>\n",
       "      <th>annotation</th>\n",
       "    </tr>\n",
       "  </thead>\n",
       "  <tbody>\n",
       "    <tr>\n",
       "      <th>0</th>\n",
       "      <td>2020-12-20T15:10:17.000Z</td>\n",
       "      <td>50.750011</td>\n",
       "      <td>7.042619</td>\n",
       "      <td>134.840759</td>\n",
       "      <td>9.025899</td>\n",
       "      <td>183.3</td>\n",
       "      <td>0.42</td>\n",
       "      <td>0</td>\n",
       "      <td>gps</td>\n",
       "      <td>NaN</td>\n",
       "      <td>NaN</td>\n",
       "      <td>NaN</td>\n",
       "      <td>NaN</td>\n",
       "      <td>NaN</td>\n",
       "      <td>NaN</td>\n",
       "      <td>NaN</td>\n",
       "      <td>70</td>\n",
       "      <td>NaN</td>\n",
       "    </tr>\n",
       "    <tr>\n",
       "      <th>1</th>\n",
       "      <td>2020-12-20T15:11:17.676Z</td>\n",
       "      <td>50.750256</td>\n",
       "      <td>7.041907</td>\n",
       "      <td>116.290527</td>\n",
       "      <td>4.649731</td>\n",
       "      <td>286.3</td>\n",
       "      <td>1.26</td>\n",
       "      <td>0</td>\n",
       "      <td>gps</td>\n",
       "      <td>NaN</td>\n",
       "      <td>NaN</td>\n",
       "      <td>NaN</td>\n",
       "      <td>NaN</td>\n",
       "      <td>NaN</td>\n",
       "      <td>NaN</td>\n",
       "      <td>NaN</td>\n",
       "      <td>70</td>\n",
       "      <td>NaN</td>\n",
       "    </tr>\n",
       "    <tr>\n",
       "      <th>2</th>\n",
       "      <td>2020-12-20T15:12:18.862Z</td>\n",
       "      <td>50.750269</td>\n",
       "      <td>7.040532</td>\n",
       "      <td>131.785706</td>\n",
       "      <td>3.790093</td>\n",
       "      <td>266.9</td>\n",
       "      <td>0.95</td>\n",
       "      <td>0</td>\n",
       "      <td>gps</td>\n",
       "      <td>NaN</td>\n",
       "      <td>NaN</td>\n",
       "      <td>NaN</td>\n",
       "      <td>NaN</td>\n",
       "      <td>NaN</td>\n",
       "      <td>NaN</td>\n",
       "      <td>NaN</td>\n",
       "      <td>70</td>\n",
       "      <td>NaN</td>\n",
       "    </tr>\n",
       "    <tr>\n",
       "      <th>3</th>\n",
       "      <td>2020-12-20T15:13:59.070Z</td>\n",
       "      <td>50.751304</td>\n",
       "      <td>7.039594</td>\n",
       "      <td>102.116760</td>\n",
       "      <td>6.074745</td>\n",
       "      <td>283.3</td>\n",
       "      <td>1.24</td>\n",
       "      <td>0</td>\n",
       "      <td>gps</td>\n",
       "      <td>NaN</td>\n",
       "      <td>NaN</td>\n",
       "      <td>NaN</td>\n",
       "      <td>NaN</td>\n",
       "      <td>NaN</td>\n",
       "      <td>NaN</td>\n",
       "      <td>NaN</td>\n",
       "      <td>69</td>\n",
       "      <td>NaN</td>\n",
       "    </tr>\n",
       "    <tr>\n",
       "      <th>4</th>\n",
       "      <td>2020-12-20T15:15:03.465Z</td>\n",
       "      <td>50.752021</td>\n",
       "      <td>7.038766</td>\n",
       "      <td>123.811890</td>\n",
       "      <td>6.938272</td>\n",
       "      <td>354.0</td>\n",
       "      <td>0.84</td>\n",
       "      <td>0</td>\n",
       "      <td>gps</td>\n",
       "      <td>NaN</td>\n",
       "      <td>NaN</td>\n",
       "      <td>NaN</td>\n",
       "      <td>NaN</td>\n",
       "      <td>NaN</td>\n",
       "      <td>NaN</td>\n",
       "      <td>NaN</td>\n",
       "      <td>69</td>\n",
       "      <td>NaN</td>\n",
       "    </tr>\n",
       "  </tbody>\n",
       "</table>\n",
       "</div>"
      ],
      "text/plain": [
       "                       time        lat       lon   elevation  accuracy  \\\n",
       "0  2020-12-20T15:10:17.000Z  50.750011  7.042619  134.840759  9.025899   \n",
       "1  2020-12-20T15:11:17.676Z  50.750256  7.041907  116.290527  4.649731   \n",
       "2  2020-12-20T15:12:18.862Z  50.750269  7.040532  131.785706  3.790093   \n",
       "3  2020-12-20T15:13:59.070Z  50.751304  7.039594  102.116760  6.074745   \n",
       "4  2020-12-20T15:15:03.465Z  50.752021  7.038766  123.811890  6.938272   \n",
       "\n",
       "   bearing  speed  satellites provider  hdop  vdop  pdop  geoidheight  \\\n",
       "0    183.3   0.42           0      gps   NaN   NaN   NaN          NaN   \n",
       "1    286.3   1.26           0      gps   NaN   NaN   NaN          NaN   \n",
       "2    266.9   0.95           0      gps   NaN   NaN   NaN          NaN   \n",
       "3    283.3   1.24           0      gps   NaN   NaN   NaN          NaN   \n",
       "4    354.0   0.84           0      gps   NaN   NaN   NaN          NaN   \n",
       "\n",
       "   ageofdgpsdata  dgpsid  activity  battery  annotation  \n",
       "0            NaN     NaN       NaN       70         NaN  \n",
       "1            NaN     NaN       NaN       70         NaN  \n",
       "2            NaN     NaN       NaN       70         NaN  \n",
       "3            NaN     NaN       NaN       69         NaN  \n",
       "4            NaN     NaN       NaN       69         NaN  "
      ]
     },
     "execution_count": 3,
     "metadata": {},
     "output_type": "execute_result"
    }
   ],
   "source": [
    "data_dist.head()"
   ]
  },
  {
   "cell_type": "code",
   "execution_count": 4,
   "id": "romance-reality",
   "metadata": {},
   "outputs": [
    {
     "name": "stdout",
     "output_type": "stream",
     "text": [
      "22\n"
     ]
    }
   ],
   "source": [
    "lat = data_dist.iloc[:,1]\n",
    "print(len(lat))"
   ]
  },
  {
   "cell_type": "code",
   "execution_count": 5,
   "id": "attended-racing",
   "metadata": {},
   "outputs": [
    {
     "name": "stdout",
     "output_type": "stream",
     "text": [
      "50.753858130000005 0.0025479503627612254\n"
     ]
    }
   ],
   "source": [
    "true_mean = np.mean(lat)\n",
    "true_std= np.std(lat)\n",
    "print(true_mean,true_std)\n"
   ]
  },
  {
   "cell_type": "code",
   "execution_count": 6,
   "id": "waiting-madonna",
   "metadata": {},
   "outputs": [
    {
     "name": "stdout",
     "output_type": "stream",
     "text": [
      "50.753614206602855 0.0030100459940152493\n",
      "22\n"
     ]
    }
   ],
   "source": [
    "sample_dist = np.random.normal(true_mean,true_std,len(lat))\n",
    "samp_mean = np.mean(sample_dist)\n",
    "samp_dist = np.std(sample_dist)\n",
    "print(samp_mean,samp_dist)\n",
    "print(len(sample_dist))"
   ]
  },
  {
   "cell_type": "code",
   "execution_count": 8,
   "id": "welcome-prompt",
   "metadata": {},
   "outputs": [
    {
     "name": "stdout",
     "output_type": "stream",
     "text": [
      "50.75373616830142 0.0019243295542180506\n",
      "22\n"
     ]
    },
    {
     "data": {
      "image/png": "[encoded data removed]",
      "text/plain": [
       "<Figure size 432x288 with 1 Axes>"
      ]
     },
     "metadata": {
      "needs_background": "light"
     },
     "output_type": "display_data"
    }
   ],
   "source": [
    "sum_dist = (sample_dist+lat)/2\n",
    "print(np.mean(sum_dist),np.std(sum_dist))\n",
    "plt.hist(lat)\n",
    "plt.hist(sample_dist)\n",
    "plt.hist(sum_dist)\n",
    "print(len(sum_dist))\n"
   ]
  },
  {
   "cell_type": "code",
   "execution_count": 9,
   "id": "sticky-scientist",
   "metadata": {},
   "outputs": [],
   "source": [
    "class MarkovChainMonteCarloSampler():\n",
    "    \n",
    "    def __init__(self,source):\n",
    "        self.source = source\n",
    "        self.iterations = 5000\n",
    "        \n",
    "    def prior(self,x):\n",
    "        if(x[1] <=0):\n",
    "            return 0\n",
    "        return 1\n",
    "    \n",
    "    def transition_model(self,x):\n",
    "        return [x[0],np.random.normal(x[1],0.5,(1,))[0]]\n",
    "\n",
    "    def likelihood(self,x,data):\n",
    "        return np.sum(-np.log(x[1] * np.sqrt(2* np.pi) )-((data-x[0])**2) / (2*x[1]**2))\n",
    "    \n",
    "    def accept(self,oldTrace,trace):\n",
    "        if trace>oldTrace:\n",
    "            return True\n",
    "        else:\n",
    "            accept=np.random.uniform(0,1)\n",
    "            return (accept < (np.exp(trace-oldTrace)))\n",
    "        \n",
    "    def MarkovChainMonteCarloSampler(self):\n",
    "        obs_mean = np.mean(self.source)\n",
    "        x = [obs_mean,0.1]\n",
    "        accepted = []\n",
    "        rejected = [] \n",
    "        for i in range(self.iterations):\n",
    "            x_new =  self.transition_model(x)    \n",
    "            x_lik = self.likelihood(x,self.source)\n",
    "            x_new_lik = self.likelihood(x_new,self.source) \n",
    "            oldtrace = x_lik + np.log(self.prior(x))\n",
    "            newtrace = x_new_lik+np.log(self.prior(x_new))\n",
    "            if (self.accept(oldtrace,newtrace)):            \n",
    "                x = x_new\n",
    "                accepted.append(x_new)\n",
    "            else:\n",
    "                rejected.append(x_new)  \n",
    "        accepted = np.array(accepted)      \n",
    "        burnin=int(-0.75*accepted.shape[0])\n",
    "        mu=accepted[burnin:,0].mean()\n",
    "        sigma=accepted[burnin:,1].mean()\n",
    "        model = np.random.normal(mu,sigma,100)\n",
    "        return model"
   ]
  },
  {
   "cell_type": "code",
   "execution_count": 10,
   "id": "attempted-wrapping",
   "metadata": {},
   "outputs": [],
   "source": [
    "class Sampler():\n",
    "    def __init__(self):\n",
    "        self.model = None\n",
    "\n",
    "    def create(self,source):\n",
    "        model = MarkovChainMonteCarloSampler(source).MarkovChainMonteCarloSampler()\n",
    "        self.model = model\n",
    "        #return model\n",
    "\n",
    "    def Take(self,samples):\n",
    "        return np.random.choice(self.model,samples)"
   ]
  },
  {
   "cell_type": "code",
   "execution_count": 11,
   "id": "widespread-psychology",
   "metadata": {},
   "outputs": [],
   "source": [
    "def pr(source,numm_samples=10,prob=0.5,alpha=0.5,epsilon=0.03,max_samples=1,\n",
    "      init_sample_size=1,sample_size_step=1):\n",
    "    H_0=prob-epsilon\n",
    "    H_1=prob+epsilon\n",
    "    beta = alpha\n",
    "    a = np.log(beta/(1-alpha))\n",
    "    b= np.log((1-beta)/alpha)\n",
    "    k=0\n",
    "    \n",
    "    w_sum=0.0\n",
    "    w_sum_true=0.0\n",
    "    s= Sampler()\n",
    "    s.create(source)\n",
    "    li = s.Take(10)\n",
    "    count = 0.0\n",
    "    for i in li:\n",
    "        #print(\"first_for loop done\")\n",
    "        if i>=0.5:\n",
    "            count=count+1\n",
    "    count = count/len(li)\n",
    "    num_samples=0\n",
    "    while (num_samples<init_sample_size):\n",
    "        #print(\"second_while loop done\")\n",
    "        if li[num_samples]>0.5:\n",
    "            k=k+1\n",
    "            w_sum_true=w_sum_true+count\n",
    "        w_sum=w_sum+count\n",
    "        num_samples+=1\n",
    "    test = None\n",
    "    while (numm_samples<= max_samples):\n",
    "        #print(\" loop done\")\n",
    "        log_likelihood = w_sum_true * np.log(H_1/H_0)+(w_sum-w_sum_true)*np.log((1-H_1)/(1-H_0))\n",
    "        \n",
    "        if (log_likelihood>=b):\n",
    "            test=True\n",
    "        elif (log_likelihood<=a):\n",
    "            test = False\n",
    "        else:\n",
    "            i=0\n",
    "            while (i<sample_size_step):\n",
    "                count=0.0\n",
    "                li=s.Take(10)\n",
    "                for it in li:\n",
    "                    if it>=0.5:\n",
    "                        count=count+1\n",
    "                count = count/len(li)\n",
    "                \n",
    "                if li[i]>0.5:\n",
    "                    k=k+1\n",
    "                    w_sum_true=w_sum_true+count\n",
    "                w_sum=w_sum+count\n",
    "                i=i+1\n",
    "                numm_samples+=sample_size_step\n",
    "        test = False\n",
    "    \n",
    "    return test"
   ]
  },
  {
   "cell_type": "code",
   "execution_count": 12,
   "id": "agricultural-precipitation",
   "metadata": {},
   "outputs": [],
   "source": [
    "class Gaussian():\n",
    "    def __init__(self,mu,std):\n",
    "        self.mean = mu\n",
    "        self.std = std\n",
    "        self.samples = 1000\n",
    "        \n",
    "    def gaussian(self):\n",
    "        population = np.random.normal(self.mean,self.std,self.samples)\n",
    "        return population\n",
    "    \n",
    "class Operator:\n",
    "    def __init__(self, val):\n",
    "        self.val = val\n",
    "\n",
    "    def __str__(self):\n",
    "        return \"({0},{1})\".format(self.val)\n",
    "\n",
    "    def __lt__(self, other):\n",
    "        self_val = np.array(self.val)\n",
    "        other_val = np.array(other.val)\n",
    "        zeros_holder = np.zeros(len(self.val))\n",
    "        lst= self_val < other_val\n",
    "        dist = list(zeros_holder+lst)\n",
    "        prob = dist.count(1)/len(dist)\n",
    "        lst = self.flip(prob,len(dist))\n",
    "        return lst\n",
    "    \n",
    "    def __gt__(self,other):\n",
    "        self_val = np.array(self.val)\n",
    "        other_val = np.array(other.val)\n",
    "        zeros_holder=np.zeros(len(self.val))\n",
    "        lst= self_val > other_val\n",
    "        dist = list(zeros_holder+lst)\n",
    "        prob = dist.count(1)/len(dist)\n",
    "        lst = self.flip(prob,len(dist))\n",
    "        return lst\n",
    "    \n",
    "    def flip(self,prob,dist_len):\n",
    "        lst=[]\n",
    "        for i in range(dist_len):\n",
    "            random_prob = np.random.uniform(0.0,1.0)\n",
    "            lst.append(int(random_prob<prob))\n",
    "        return lst"
   ]
  },
  {
   "cell_type": "code",
   "execution_count": 13,
   "id": "earlier-allocation",
   "metadata": {},
   "outputs": [],
   "source": [
    "path = os.getcwd()"
   ]
  },
  {
   "cell_type": "code",
   "execution_count": 14,
   "id": "requested-section",
   "metadata": {},
   "outputs": [
    {
     "ename": "SyntaxError",
     "evalue": "invalid syntax (<ipython-input-14-666597ab5cf8>, line 1)",
     "output_type": "error",
     "traceback": [
      "\u001b[0;36m  File \u001b[0;32m\"<ipython-input-14-666597ab5cf8>\"\u001b[0;36m, line \u001b[0;32m1\u001b[0m\n\u001b[0;31m    Downloads/SDP/GUI Repo/SDP_Assignments/Uncertain_T/Uncertain_python/Uncertain\u001b[0m\n\u001b[0m                      ^\u001b[0m\n\u001b[0;31mSyntaxError\u001b[0m\u001b[0;31m:\u001b[0m invalid syntax\n"
     ]
    }
   ],
   "source": [
    "Downloads/SDP/GUI Repo/SDP_Assignments/Uncertain_T/Uncertain_python/Uncertain"
   ]
  },
  {
   "cell_type": "code",
   "execution_count": 15,
   "id": "fuzzy-improvement",
   "metadata": {},
   "outputs": [],
   "source": [
    "unc_fol = os.chdir(\"/home/dadi_vardhan/Downloads/SDP/GUI Repo/SDP_Assignments/Uncertain_T/Uncertain_python/\")"
   ]
  },
  {
   "cell_type": "code",
   "execution_count": 16,
   "id": "altered-program",
   "metadata": {},
   "outputs": [
    {
     "data": {
      "text/plain": [
       "'/home/dadi_vardhan/Downloads/SDP/GUI Repo/SDP_Assignments/Uncertain_T/Uncertain_python'"
      ]
     },
     "execution_count": 16,
     "metadata": {},
     "output_type": "execute_result"
    }
   ],
   "source": [
    "pwd"
   ]
  },
  {
   "cell_type": "code",
   "execution_count": 17,
   "id": "distinguished-warning",
   "metadata": {},
   "outputs": [],
   "source": [
    "from Uncertain.Gaussian import Gaussian\n",
    "from Uncertain.Uncertain import Operator"
   ]
  },
  {
   "cell_type": "code",
   "execution_count": 21,
   "id": "religious-grant",
   "metadata": {},
   "outputs": [],
   "source": [
    "mmc_truth_dist = Gaussian(true_mean,true_std)\n",
    "mmc_samp_dist = Gaussian(samp_mean,samp_dist)\n",
    "\n",
    "final_dist = Operator(mmc_samp_dist)+Operator(mmc_truth_dist)"
   ]
  },
  {
   "cell_type": "code",
   "execution_count": 52,
   "id": "racial-deposit",
   "metadata": {},
   "outputs": [
    {
     "name": "stdout",
     "output_type": "stream",
     "text": [
      "<Uncertain.Gaussian.Gaussian object at 0x7f1cca1ed760>\n"
     ]
    }
   ],
   "source": []
  },
  {
   "cell_type": "code",
   "execution_count": 22,
   "id": "choice-synthesis",
   "metadata": {},
   "outputs": [
    {
     "name": "stdout",
     "output_type": "stream",
     "text": [
      "50.75408116667567 0.0017548120180855054\n"
     ]
    }
   ],
   "source": [
    "mmc_truth_dist = list(mmc_truth_dist.get_support())\n",
    "mmc_samp_dist = list(mmc_samp_dist.get_support())\n",
    "final_dist = list(final_dist/2)\n",
    "print(np.mean(final_dist),np.std(final_dist))"
   ]
  },
  {
   "cell_type": "code",
   "execution_count": 63,
   "id": "frequent-truth",
   "metadata": {},
   "outputs": [
    {
     "data": {
      "text/plain": [
       "[<matplotlib.lines.Line2D at 0x7f1cc495d970>]"
      ]
     },
     "execution_count": 63,
     "metadata": {},
     "output_type": "execute_result"
    },
    {
     "data": {
      "image/png": "[encoded data removed]",
      "text/plain": [
       "<Figure size 432x288 with 1 Axes>"
      ]
     },
     "metadata": {
      "needs_background": "light"
     },
     "output_type": "display_data"
    }
   ],
   "source": [
    "plt.hist(mmc_truth_dist)\n",
    "plt.hist(mmc_samp_dist)\n"
   ]
  },
  {
   "cell_type": "code",
   "execution_count": null,
   "id": "synthetic-crossing",
   "metadata": {},
   "outputs": [],
   "source": []
  }
 ],
 "metadata": {
  "kernelspec": {
   "display_name": "Python 3",
   "language": "python",
   "name": "python3"
  },
  "language_info": {
   "codemirror_mode": {
    "name": "ipython",
    "version": 3
   },
   "file_extension": ".py",
   "mimetype": "text/x-python",
   "name": "python",
   "nbconvert_exporter": "python",
   "pygments_lexer": "ipython3",
   "version": "3.8.5"
  }
 },
 "nbformat": 4,
 "nbformat_minor": 5
}
